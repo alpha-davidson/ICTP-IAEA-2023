{
  "cells": [
    {
      "cell_type": "markdown",
      "metadata": {
        "id": "R_-Q8naoDk36"
      },
      "source": [
        "# Neural Networks in PyTorch\n",
        "\n",
        "\n",
        "We will build a dense neural network in `pyTorch` to solve a simple regression problem. \n",
        "\n",
        "**Advanced task:** If you are already an expert with neural networks and `pyTorch`, I recommend trying to hand-code a neural netork using `Jax` (if you have not yet tried this). There is *amazing*, cutting edge work being done with deep learning and `Jax` for science applications... ask me about it!  \n",
        "\n",
        "## Learning Task\n",
        "We will construct a dense neural network to predict xyz.\n",
        "\n",
        "*Note that this task does not require (or gain any use from) machine learning. We choose a task with a known mapping to help us create, debug, and tune our first neural network.*\n",
        "\n",
        "## Dataset\n",
        "We will synthesize a simple dataset for our first neural network. The results will be easy to visualize and thus validate that we are building and training our first network correctly.\n",
        "\n",
        "<!--This dataset is a collection of simulated particle events from [Pythia](http://home.thep.lu.se/~torbjorn/Pythia.html). The dataset is a 2D array where each row represents one event from an $e^{-} + p$ collision. This dataset is comprised _only_ of events where exactly 16 particles are produced from an electron-proton collision. Each particle contains $(p_x,p_y,p_z,E,q)$. Each event is therefore represented by 80 numbers. -->\n",
        "\n",
        "\n",
        "<!--**Advanced activity:** There are more interesting event-wise learning tasks using this dataset. Consider crafting your own learning task and target for this data. -->\n",
        "\n",
        "\n",
        "\n",
        "## Computational Notes\n",
        "\n",
        "If this is your first time in a Jupyter-like environment, please read the following carefully:\n",
        "\n",
        " - You are in an active kernel\n",
        " - Run each cell with `Shift + Enter`\n",
        " - You must execute the cells in the order that you want the code to run\n",
        " - `Runtime`$\\rightarrow$`Change runtime type` allows you to utilize GPUs and TPUs. They are unnecessary here, but will become vital in later exercises.\n"
      ]
    },
    {
      "cell_type": "code",
      "execution_count": null,
      "metadata": {
        "id": "LfL6KNLSDk3-",
        "outputId": "1707f676-3e3d-42e7-f6d8-92ca13aca75c"
      },
      "outputs": [
        {
          "name": "stdout",
          "output_type": "stream",
          "text": [
            "\n"
          ]
        }
      ],
      "source": [
        "# import the packages we will be using\n",
        "import numpy as np # vectorized arrays\n",
        "import matplotlib.pyplot as plt # plotting\n",
        "\n",
        "# pytorch packages for neural networks\n",
        "import torch\n",
        "from torch import nn\n",
        "from torch.utils.data import TensorDataset, DataLoader\n",
        "from torchvision import datasets\n",
        "from torchvision.transforms import ToTensor\n",
        "\n",
        "\n",
        "# for future reference, below is how check that you can access the GPU, \n",
        "# but we don't want to use that here, we won't gain any performance.\n",
        "\"\"\"\n",
        "device = \"cuda\" if torch.cuda.is_available() else \"cpu\"\n",
        "print(f\"Using {device} device\")\n",
        "\"\"\"\n",
        "print()\n"
      ]
    },
    {
      "cell_type": "markdown",
      "metadata": {
        "id": "xTx3KTNYGyQu",
        "outputId": "8842f811-432e-48f5-80d4-fa57a748a062"
      },
      "source": [
        "# Generate sythetic data\n",
        "\n",
        "Generate $10^3$ **noisy** examples from the equation $y = 10(x-0.4)^5$ where $x\\sim U[0,1]$. \n",
        "\n",
        "`pyTorch` requires data to follow the data format I showed in the slides, meaning each *example* is a *row* of data.\n",
        "\n",
        "*Note:* I added Gaussian noise with $\\sigma = 0.01$ to start."
      ]
    },
    {
      "cell_type": "code",
      "execution_count": null,
      "metadata": {
        "id": "8-GfZs9bI7Km"
      },
      "outputs": [],
      "source": [
        "# generate the data here\n",
        "\n"
      ]
    },
    {
      "cell_type": "markdown",
      "metadata": {
        "id": "8O8n_nwTDk3_"
      },
      "source": [
        "Now, we would typically normalize our data. I chose a dataset that is within a sufficient range with a sufficient distribution of values so we can forgoe this step here.\n",
        "\n",
        "We also need to create our train/test/validation datasets. `scikit-learn` (`import sklearn`) comes with nice functions (`sklearn.model_selection.train_test_split()`) for shuffling and splitting data, or you could do it by hand.\n",
        "\n",
        "Additionally, let's turn our `numpy` arrays into `torch` tensors and create a `TensorDataset` and `DataLoader`. Example syntax for (approriately shaped) `numpy` arrays are in a comment below."
      ]
    },
    {
      "cell_type": "code",
      "execution_count": null,
      "metadata": {
        "id": "067guDXZDk4A"
      },
      "outputs": [],
      "source": [
        "# create tensor data here\n",
        "\n",
        "\n",
        "#train_x = torch.tensor(t_x)\n",
        "#train_data = TensorDataset(x_data,y_data) # create your datset\n",
        "#train_dataloader = DataLoader(train_data, batch_size=32) # create your dataloader\n",
        "\n"
      ]
    },
    {
      "cell_type": "markdown",
      "metadata": {
        "id": "K_YWTBO0Dk4B"
      },
      "source": [
        "# Building our neural network\n",
        "\n",
        "This model has one input and one output. Let's begin by builing a dense, fully connected, regression neural network with **one hidden layer that contains two nodes** (yah, not a very flexible network, but we want to practice tuning). We will begin with a Sigmoid activation function\n",
        "\n",
        "To do this, we will inherit from the `torch.nn.Module` class. Look at the [nn.Sequential](https://pytorch.org/docs/stable/generated/torch.nn.Sequential.html) documentation for guidance.\n",
        "\n",
        "Often this is in a python module that may be imported into the notebook for interactive training, as we will do here. "
      ]
    },
    {
      "cell_type": "code",
      "execution_count": null,
      "metadata": {
        "id": "ap3EizhuDk4B"
      },
      "outputs": [],
      "source": [
        "class NN(nn.Module):\n",
        "    '''\n",
        "    A dense, fully connected neural network.\n",
        "    '''\n",
        "    def __init__(self):\n",
        "        '''\n",
        "        Constructor. Sets up the architecture.\n",
        "        '''\n",
        "        # complete me\n",
        "        \n",
        "    def forward(self, x):\n",
        "        '''\n",
        "        Forward pass through the network.\n",
        "        arguments:\n",
        "            x: TENSOR of inputs to network\n",
        "        returns:\n",
        "            TENSOR of outputs to network\n",
        "        '''\n",
        "        # complete me\n",
        "\n",
        "    "
      ]
    },
    {
      "cell_type": "markdown",
      "metadata": {
        "id": "kprt9pbPDk4D"
      },
      "source": [
        "We will create an *instance* of this class and print some information about the model.\n",
        "\n",
        "As we did in the lecture, I like to count the number of trainable parameters for small netwroks to verify that I have built what I *think* I built :) Therefore, please draw out this small network and count your paramters before contiuing onto this next cell."
      ]
    },
    {
      "cell_type": "code",
      "execution_count": null,
      "metadata": {
        "id": "nZkF1erNDk4E",
        "outputId": "c8e8c5a6-c0df-478d-ea4c-847af80ab843"
      },
      "outputs": [
        {
          "ename": "NameError",
          "evalue": "name 'NN' is not defined",
          "output_type": "error",
          "traceback": [
            "\u001b[0;31m---------------------------------------------------------------------------\u001b[0m",
            "\u001b[0;31mNameError\u001b[0m                                 Traceback (most recent call last)",
            "Input \u001b[0;32mIn [41]\u001b[0m, in \u001b[0;36m<cell line: 1>\u001b[0;34m()\u001b[0m\n\u001b[0;32m----> 1\u001b[0m model \u001b[38;5;241m=\u001b[39m \u001b[43mNN\u001b[49m() \u001b[38;5;66;03m# create instance of NN\u001b[39;00m\n\u001b[1;32m      3\u001b[0m \u001b[38;5;66;03m# print my architecture information\u001b[39;00m\n\u001b[1;32m      4\u001b[0m \u001b[38;5;28mprint\u001b[39m(model)\n",
            "\u001b[0;31mNameError\u001b[0m: name 'NN' is not defined"
          ]
        }
      ],
      "source": [
        "model = NN() # create instance of NN\n",
        "\n",
        "# print my architecture information\n",
        "print(model)\n",
        "print()\n",
        "# counting my trainable parameters\n",
        "total_params = sum(p.numel() for p in model.parameters() if p.requires_grad)\n",
        "print(\"Total number of trainable parameters:\", total_params)\n",
        "print()\n",
        "\n",
        "# cycle through and print the params \n",
        "# this is more useful when there are more than one inputs or deeper networks\n",
        "for parameter in model.parameters():\n",
        "    print(parameter)\n"
      ]
    },
    {
      "cell_type": "markdown",
      "metadata": {
        "id": "5VYyii0yDk4F"
      },
      "source": [
        "# Training and Validation\n",
        "\n",
        "We now need to define the training and validation functions. Again, this code could be offloaded into a module, but we will write it here."
      ]
    },
    {
      "cell_type": "code",
      "execution_count": null,
      "metadata": {
        "id": "xHL4sU3ZDk4G"
      },
      "outputs": [],
      "source": [
        "def train(dataloader, model, loss_fn, optimizer):\n",
        "    \"\"\"\n",
        "    Defines a training loop for one epoch (one pass through the training data)\n",
        "    \n",
        "    \"\"\"\n",
        "    \n",
        "    model.train() # enter train mode\n",
        "\n",
        "    for batch, (X, y) in enumerate(dataloader):\n",
        "        \n",
        "        # make a forward pass through the network\n",
        "        pred = model(X) \n",
        "\n",
        "        # Compute prediction loss\n",
        "        lossf = loss_fn(pred, y)\n",
        "\n",
        "        # Backpropagation:\n",
        "        optimizer.zero_grad() # we don't want to accumulate grads from previous batch\n",
        "        lossf.backward() # back prop through networks\n",
        "        optimizer.step() # update weights\n",
        "\n",
        "        # Sometimes we want some feedback within an epoch\n",
        "        # if batch % 10 == 0: \n",
        "        #     loss, current = lossf.item(), batch * len(X)\n",
        "        #     #print(f\"loss: {loss:>7f}  [{current:>5d}/{size:>5d}]\")\n",
        "    return lossf.detach().numpy()\n",
        "\n",
        "def val(dataloader, model, loss_fn):\n",
        "  \"\"\"\n",
        "  Defines a validation loop for one pass through validation data.\n",
        "  \"\"\"\n",
        "\n",
        "  # complete me. Use the train function for guidance\n",
        "  # Hint: `with torch.no_grad()` disables gradient calculation...\n",
        "  # we def don't want validation gradients leaking into our training!\n",
        "\n",
        "   \n",
        "  return val_loss\n",
        "\n",
        "\n",
        "def test_preds(dataloader, model, loss_fn):\n",
        "    \"\"\"\n",
        "    Code for making predictions from a trained model.\n",
        "\n",
        "    returns: ARRAY of predictions\n",
        "    \"\"\"\n",
        "\n",
        "\n",
        "    return x, yhat\n",
        "\n",
        "def weight_reset(m):\n",
        "  \"\"\"\n",
        "  initialize weights in network\n",
        "  \"\"\"\n",
        "  if isinstance(m, nn.Conv2d) or isinstance(m, nn.Linear):\n",
        "      m.reset_parameters()"
      ]
    },
    {
      "cell_type": "markdown",
      "metadata": {
        "id": "i-MXhgPQDk4H"
      },
      "source": [
        "The last thing we need to enable training is to define our loss function and our optimizer. We went over stochastic gradient descent (SGD) during the lecture, but there are many modifications of SGD. Adam is particularly popular for neural network training. \n",
        "\n"
      ]
    },
    {
      "cell_type": "code",
      "execution_count": null,
      "metadata": {
        "colab": {
          "base_uri": "https://localhost:8080/"
        },
        "id": "d_MsoqFvDk4H",
        "outputId": "6eb91415-d7b7-43fe-b5e2-9cc231601d4d"
      },
      "outputs": [
        {
          "name": "stdout",
          "output_type": "stream",
          "text": [
            "MLP(\n",
            "  (layers): Sequential(\n",
            "    (0): Linear(in_features=5, out_features=6, bias=True)\n",
            "    (1): ReLU()\n",
            "    (2): Linear(in_features=6, out_features=1, bias=True)\n",
            "  )\n",
            ")\n",
            "<bound method Module.parameters of MLP(\n",
            "  (layers): Sequential(\n",
            "    (0): Linear(in_features=5, out_features=6, bias=True)\n",
            "    (1): ReLU()\n",
            "    (2): Linear(in_features=6, out_features=1, bias=True)\n",
            "  )\n",
            ")>\n"
          ]
        }
      ],
      "source": [
        "# define loss function\n",
        "loss_fn = nn.#complete me\n",
        "# define optimizer\n",
        "optimizer = torch.optim.#complete me\n"
      ]
    },
    {
      "cell_type": "markdown",
      "metadata": {
        "id": "xFb0E6GtSK7Z"
      },
      "source": [
        "# Train your network!\n",
        "\n",
        "To start, train your regression network for 10 epochs with a batch size of 128, an Adam optimizer with a learning rate of 0.1, using mean squared error loss. **This is not ideal.** \n",
        "\n"
      ]
    },
    {
      "cell_type": "code",
      "execution_count": null,
      "metadata": {
        "id": "TrIo4jsqDk4J",
        "outputId": "fd4b96a9-c89f-4f88-ab83-5d3fa180a859"
      },
      "outputs": [
        {
          "name": "stdout",
          "output_type": "stream",
          "text": [
            "Parameter containing:\n",
            "tensor([[ 0.0212,  0.1496,  0.2247,  0.2913,  0.0744],\n",
            "        [-0.2727,  0.1406,  0.1560,  0.3364,  0.4177],\n",
            "        [-0.3213, -0.2507,  0.1224,  0.3617,  0.0757],\n",
            "        [ 0.3521, -0.3132, -0.0040,  0.2971, -0.3568],\n",
            "        [ 0.1461,  0.1133, -0.2353, -0.0120,  0.0987],\n",
            "        [-0.4193,  0.4288,  0.2096,  0.2203,  0.3387]], requires_grad=True)\n",
            "Parameter containing:\n",
            "tensor([ 0.1111,  0.3128,  0.4089, -0.2211, -0.2969, -0.1644],\n",
            "       requires_grad=True)\n",
            "Parameter containing:\n",
            "tensor([[ 0.2332,  0.3181, -0.0131,  0.2043, -0.3838, -0.1753]],\n",
            "       requires_grad=True)\n",
            "Parameter containing:\n",
            "tensor([0.0927], requires_grad=True)\n",
            "Epoch 1\n",
            "-------------------------------\n",
            "train loss: tensor(0.5858, grad_fn=<MseLossBackward0>)\n",
            "val loss: 0.570015705241182\n",
            "Epoch 51\n",
            "-------------------------------\n",
            "train loss: tensor(0.0643, grad_fn=<MseLossBackward0>)\n",
            "val loss: 0.054213462546229746\n",
            "Done!\n",
            "Parameter containing:\n",
            "tensor([[-0.0377,  0.1959,  0.1504,  0.2272, -0.0117],\n",
            "        [-0.3287,  0.2028,  0.0942,  0.2615,  0.3851],\n",
            "        [-0.2707, -0.3206,  0.2160,  0.4385,  0.1751],\n",
            "        [ 0.3084, -0.2473, -0.1109,  0.2131, -0.3827],\n",
            "        [ 0.0887,  0.0644, -0.2166, -0.0036,  0.0878],\n",
            "        [-0.3279,  0.3864,  0.2373,  0.3258,  0.3407]], requires_grad=True)\n",
            "Parameter containing:\n",
            "tensor([ 0.0815,  0.2518,  0.4514, -0.2826, -0.2633, -0.0543],\n",
            "       requires_grad=True)\n",
            "Parameter containing:\n",
            "tensor([[ 0.1617,  0.2658, -0.0823,  0.1255, -0.3278, -0.2060]],\n",
            "       requires_grad=True)\n",
            "Parameter containing:\n",
            "tensor([0.0607], requires_grad=True)\n"
          ]
        }
      ],
      "source": [
        "restart = True\n",
        "\n",
        "\n",
        "if restart:\n",
        "  model.apply(weight_reset)\n",
        "  loss = []\n",
        "  val_loss = []\n",
        "        \n",
        "\n",
        "\n",
        "epochs = 100\n",
        "\n",
        "for i in range(epochs):\n",
        "   # train your model and keep track of your losses for your learning curve\n",
        "   \n",
        "    if i % 10 == 0:\n",
        "        print(f\"Epoch {t+1}\\n-------------------------------\")\n",
        "        print(\"train loss:\",lo)\n",
        "        print(\"val loss:\",vlo)\n",
        "print(\"Done!\")\n",
        "\n",
        "\n",
        "\n"
      ]
    },
    {
      "cell_type": "markdown",
      "metadata": {
        "id": "Mcg4Qj1wZDxE"
      },
      "source": [
        "A learning curve will help us determine over and underfitting, which, in turn, helps us tune our model and training."
      ]
    },
    {
      "cell_type": "code",
      "execution_count": null,
      "metadata": {
        "colab": {
          "base_uri": "https://localhost:8080/",
          "height": 279
        },
        "id": "RfhycMMXZahi",
        "outputId": "7fc36189-6056-4dc0-bc13-765e64555a7c"
      },
      "outputs": [
        {
          "data": {
            "image/png": "[encoded data removed]",
            "text/plain": [
              "<Figure size 432x288 with 1 Axes>"
            ]
          },
          "metadata": {
            "needs_background": "light"
          },
          "output_type": "display_data"
        }
      ],
      "source": [
        "# plot learning curve\n",
        "\n"
      ]
    },
    {
      "cell_type": "markdown",
      "source": [
        "Now, we want to make predictions from our trained model and plot the results.\n"
      ],
      "metadata": {
        "id": "7VDQ4JVYxc0T"
      }
    },
    {
      "cell_type": "code",
      "execution_count": null,
      "metadata": {
        "id": "DdrpoGvz-ie0",
        "outputId": "683ad94d-e04e-479a-d920-6562ea706b12"
      },
      "outputs": [
        {
          "data": {
            "image/png": "[encoded data removed]",
            "text/plain": [
              "<Figure size 432x288 with 1 Axes>"
            ]
          },
          "metadata": {
            "needs_background": "light"
          },
          "output_type": "display_data"
        },
        {
          "data": {
            "image/png": "[encoded data removed]",
            "text/plain": [
              "<Figure size 432x288 with 1 Axes>"
            ]
          },
          "metadata": {
            "needs_background": "light"
          },
          "output_type": "display_data"
        }
      ],
      "source": [
        "# plot test set predictions and test set data on the same plot here\n",
        "\n"
      ]
    },
    {
      "cell_type": "code",
      "source": [],
      "metadata": {
        "id": "3L0T1uvwxbV-"
      },
      "execution_count": null,
      "outputs": []
    },
    {
      "cell_type": "markdown",
      "metadata": {
        "id": "Rot49hATDk4K"
      },
      "source": [
        "## Tuning\n",
        "The model is learning, but we can do better. \n",
        "\n",
        "**At this point, you should play with the above code to change hyperparameters and note changes to your results.**\n",
        "\n",
        "Alternatively, you can reference the step through tuning of a model below. The step-through tuning is from a more complicated learning problem (that I realized was kinda dumb so I changed it).\n",
        "\n",
        "If you train the model effectively with time to spare, you can generate more challenging synthetic regression data. I multiplied the exisiting function by `np.sin(100*x)` as my next trial. Adding more inputs and or outputs is also a fun modification. \n",
        "\n",
        "\n",
        "## Walk-through tuning:\n",
        "Perhaps we did not have enough model parameters to accurately represent the mapping. Remedy this by increasing the number of hidden nodes to 20."
      ]
    },
    {
      "cell_type": "code",
      "execution_count": null,
      "metadata": {
        "id": "N3SfAb-mDk4L"
      },
      "outputs": [],
      "source": [
        "#Use the same code as in the previous cell\n",
        "#simply change the number of neurons in the hidden layer"
      ]
    },
    {
      "cell_type": "markdown",
      "metadata": {
        "id": "PQWoQKonDk4L"
      },
      "source": [
        "We see that we got little improvement here. Another hyperparameter to adjust is *batch size*, which is the number of training examples used to calculate the gradient on each step. While you may initially think that a higher batch size leads to faster or more accurate training, in practice this is not true. The \"noise\" that arises from using less training examples at each iteration can actually help find the global minimum of the loss function.\n",
        "(See here for more info: https://arxiv.org/pdf/1609.04836.pdf)\n",
        "\n",
        "Try decreasing the batch size to 16."
      ]
    },
    {
      "cell_type": "code",
      "execution_count": null,
      "metadata": {
        "id": "UB9__PwjDk4M"
      },
      "outputs": [],
      "source": [
        "#Complete me:\n"
      ]
    },
    {
      "cell_type": "markdown",
      "metadata": {
        "id": "q4QGMh3-Dk4M"
      },
      "source": [
        "This is starting to do better but has significant room for improvement.\n",
        "\n",
        "Another hyperparameter to tune is the *learning rate*. \n",
        "\n",
        " - If the learning rate is too high, we are taking too large of a step in the gradient descent at each iteration and will miss narrow minima in the loss function. \n",
        " - If the learning rate is too small, then we are not traveling far enough in each iteration and we will take far too long to reach a minimum. \n",
        "\n",
        "Perhaps the learning rate is too high and the network can't fine tune. Try decreasing the learning rate to 0.001."
      ]
    },
    {
      "cell_type": "code",
      "execution_count": null,
      "metadata": {
        "id": "s851AM6GDk4N"
      },
      "outputs": [],
      "source": [
        "\n",
        "# Complete me:\n"
      ]
    },
    {
      "cell_type": "markdown",
      "metadata": {
        "id": "yh748SgrDk4O"
      },
      "source": [
        "This is not really that much better, but now there is evidence of *overtraining* or *overfitting* -- the training loss is so much lower than the validation loss. \n",
        "\n",
        "A common fix to this is adding *dropout layers*. Try adding a dropout layer with dropout rate of 0.5. https://pytorch.org/docs/stable/generated/torch.nn.Dropout.html\n",
        "\n",
        "You can also try batch normalization: https://pytorch.org/docs/stable/generated/torch.nn.BatchNorm1d.html"
      ]
    },
    {
      "cell_type": "code",
      "execution_count": null,
      "metadata": {
        "id": "XO_Ou80xDk4O"
      },
      "outputs": [],
      "source": [
        "#Dropout layers are located under tf.keras.layers. \n",
        "#They take the dropout rate as their only argument.\n",
        "#BatchNormalization layers are also under tf.keras.layers, and in the simplest use case, take no arguments\n",
        "\n",
        "#Complete me:\n"
      ]
    },
    {
      "cell_type": "markdown",
      "metadata": {
        "id": "Owd0k7kEDk4P"
      },
      "source": [
        "This clearly stopped the overtraining problem, but it still isn't training well. Now, try training on the full dataset with a more reasonable validation split of 0.2. Use a single hidden layer with 20 neurons, a learning rate of 0.001, and a batch size of 256. Just run it for 10 epochs."
      ]
    },
    {
      "cell_type": "code",
      "execution_count": null,
      "metadata": {
        "id": "iStR0aT5Dk4P"
      },
      "outputs": [],
      "source": [
        "#Complete me:\n"
      ]
    },
    {
      "cell_type": "markdown",
      "metadata": {
        "id": "3vkQ1kX2Dk4Q"
      },
      "source": [
        "This clearly resulted in a significant improvement and shows how important having a large enough dataset is. Moving on to the choice in activation functions, ReLU is not the only available choice, although it is one of the most popular ones currently. Try training a network using a sigmoid or tanh activation function."
      ]
    },
    {
      "cell_type": "code",
      "execution_count": null,
      "metadata": {
        "id": "B3qtiBmiDk4Q"
      },
      "outputs": [],
      "source": [
        "#Simply change relu to sigmoid or tanh to change the activation function\n",
        "\n",
        "#Complete me:\n"
      ]
    },
    {
      "cell_type": "markdown",
      "metadata": {
        "id": "ZRlAj8KFDk4R"
      },
      "source": [
        "Next, try adding 2 new hidden layers to the network. Use the ReLU activation function."
      ]
    },
    {
      "cell_type": "code",
      "execution_count": null,
      "metadata": {
        "id": "oJlPFnsjDk4R"
      },
      "outputs": [],
      "source": [
        "#Complete me:\n"
      ]
    },
    {
      "cell_type": "markdown",
      "metadata": {
        "id": "t3lUeX2dDk4S"
      },
      "source": [
        "Clearly, adding more layers helps improve the quality of the network. There is a limit to how effective this is though. Try having 5 hidden layers."
      ]
    },
    {
      "cell_type": "code",
      "execution_count": null,
      "metadata": {
        "id": "3kKOzBCrDk4S"
      },
      "outputs": [],
      "source": [
        "#Complete me:\n"
      ]
    },
    {
      "cell_type": "markdown",
      "metadata": {
        "id": "psJeOPOsDk4S"
      },
      "source": [
        "Now, see what happens when you increase the number of neurons per layer from 20 to 50 in the 3 hidden layer model. Consider how they perform compared to ReLU now. "
      ]
    },
    {
      "cell_type": "code",
      "execution_count": null,
      "metadata": {
        "id": "k430N-vIDk4T"
      },
      "outputs": [],
      "source": [
        "#Complete me:\n"
      ]
    },
    {
      "cell_type": "markdown",
      "metadata": {
        "id": "Ntl38Zo7Dk4U"
      },
      "source": [
        "Try using the sigmoid and the tanh activation functions again and compare them to ReLU."
      ]
    },
    {
      "cell_type": "code",
      "execution_count": null,
      "metadata": {
        "id": "JHn1MKIiDk4V"
      },
      "outputs": [],
      "source": [
        "#Complete me:\n"
      ]
    },
    {
      "cell_type": "markdown",
      "metadata": {
        "id": "D-HNQQhpDk4V"
      },
      "source": [
        "This difference in performance, especially with the sigmoid function, is known as the vanishing gradient problem. If the value for any one the neurons gets too far away from 0, the gradient for sigmoid and tanh gets really close to 0. This means that for deeper networks it is much more difficult to update the weights in the earlier layers as their gradient is so small. Now, remove the fifth column from the input data, the charge, and see what happens when training. Why do you think including charge has such a large impact?"
      ]
    },
    {
      "cell_type": "code",
      "execution_count": null,
      "metadata": {
        "id": "ceRTx4CpDk4W"
      },
      "outputs": [],
      "source": [
        "#Complete me:\n"
      ]
    },
    {
      "cell_type": "markdown",
      "metadata": {
        "id": "IscwBDy7Dk4W"
      },
      "source": [
        "Finally, there are other options for the loss function. Try experimenting with alternatives to mean squared error.\n",
        "\n",
        "https://pytorch.org/docs/stable/nn.html#loss-functions\n",
        "\n",
        "You can also try some other optimizers -- for example, sgd (with and without momentum), rmsprop, adagrad, adadelta, adamax, and nadam. https://pytorch.org/docs/stable/optim.html#algorithms\n",
        "\n",
        "\n"
      ]
    },
    {
      "cell_type": "code",
      "execution_count": null,
      "metadata": {
        "id": "uCm5VSXDDk4X"
      },
      "outputs": [],
      "source": []
    }
  ],
  "metadata": {
    "colab": {
      "collapsed_sections": [],
      "name": "Lecture1-NN-torch.ipynb",
      "provenance": [],
      "toc_visible": true
    },
    "kernelspec": {
      "display_name": "Python 3 (ipykernel)",
      "language": "python",
      "name": "python3"
    },
    "language_info": {
      "codemirror_mode": {
        "name": "ipython",
        "version": 3
      },
      "file_extension": ".py",
      "mimetype": "text/x-python",
      "name": "python",
      "nbconvert_exporter": "python",
      "pygments_lexer": "ipython3",
      "version": "3.10.4"
    }
  },
  "nbformat": 4,
  "nbformat_minor": 0
}